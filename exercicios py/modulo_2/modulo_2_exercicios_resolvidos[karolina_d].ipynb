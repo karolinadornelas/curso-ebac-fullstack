{
  "nbformat": 4,
  "nbformat_minor": 0,
  "metadata": {
    "colab": {
      "provenance": []
    },
    "kernelspec": {
      "name": "python3",
      "display_name": "Python 3"
    }
  },
  "cells": [
    {
      "cell_type": "markdown",
      "metadata": {
        "id": "KJqp9AANOCtf"
      },
      "source": [
        "<img src=\"https://raw.githubusercontent.com/andre-marcos-perez/ebac-course-utils/main/media/logo/newebac_logo_black_half.png\" alt=\"ebac-logo\">\n",
        "\n",
        "---\n",
        "\n",
        "# **Módulo 02** | Python: Estruturas de Dados\n",
        "Caderno de **Exercícios**<br>\n",
        "Professor [André Perez](https://www.linkedin.com/in/andremarcosperez/)\n",
        "\n",
        "---"
      ]
    },
    {
      "cell_type": "markdown",
      "metadata": {
        "id": "d9jDtUbDOE1-"
      },
      "source": [
        "# **Tópicos**\n",
        "\n",
        "<ol type=\"1\">\n",
        "  <li>Listas;</li>\n",
        "  <li>Conjuntos;</li>\n",
        "  <li>Dicionários.</li>\n",
        "</ol>"
      ]
    },
    {
      "cell_type": "markdown",
      "metadata": {
        "id": "SmoHgt-lwkpD"
      },
      "source": [
        "---"
      ]
    },
    {
      "cell_type": "markdown",
      "metadata": {
        "id": "GABI6OW8OfQ2"
      },
      "source": [
        "# **Exercícios**"
      ]
    },
    {
      "cell_type": "markdown",
      "metadata": {
        "id": "muD1vxozykSC"
      },
      "source": [
        "## 1\\. Listas"
      ]
    },
    {
      "cell_type": "markdown",
      "metadata": {
        "id": "ahrFfCuBxJKs"
      },
      "source": [
        "Criei uma lista chamada `filmes` com o nome dos 10 primeiros filmes mais bem avaliados no site no [IMDB](https://www.imdb.com/chart/top/). Imprima o resultado."
      ]
    },
    {
      "cell_type": "code",
      "metadata": {
        "id": "OgL6Hv3bzOHI",
        "colab": {
          "base_uri": "https://localhost:8080/"
        },
        "outputId": "91dd0c6d-2b58-4787-f8a3-6aafb39e0311"
      },
      "source": [
        "filmes = ['O Poderoso Chefão', 'Um Sonho De Liberdarde', 'Batman, O Cavaleiro das Trevas', 'O Poderoso Chefão II', '12 Homens e uma Sentença','A Lista de Schindler', 'O Senhor dos Anéis: O Retorno do Rei', 'O Senhor dos Anéis: A Sociedade do Anel', 'Pulp Fiction - Tempo de Violência', 'Três Homens em Conflito']\n",
        "print(filmes)"
      ],
      "execution_count": null,
      "outputs": [
        {
          "output_type": "stream",
          "name": "stdout",
          "text": [
            "['O Poderoso Chefão', 'Um Sonho De Liberdarde', 'Batman, O Cavaleiro das Trevas', 'O Poderoso Chefão II', '12 Homens e uma Sentença', 'A Lista de Schindler', 'O Senhor dos Anéis: O Retorno do Rei', 'O Senhor dos Anéis: A Sociedade do Anel', 'Pulp Fiction - Tempo de Violência', 'Três Homens em Conflito']\n"
          ]
        }
      ]
    },
    {
      "cell_type": "markdown",
      "metadata": {
        "id": "KI9zQRT2xa7m"
      },
      "source": [
        "Simule a movimentação do *ranking*. Utilize os métodos `insert` e `pop` para trocar a posição do primeiro e do segundo filme da lista. Imprima o resultado.\n",
        "\n"
      ]
    },
    {
      "cell_type": "code",
      "metadata": {
        "id": "zX3mA3_GzrXH",
        "colab": {
          "base_uri": "https://localhost:8080/"
        },
        "outputId": "3466667d-1597-440b-f212-e856bc7b576f"
      },
      "source": [
        "filmes = ['O Poderoso Chefão', 'Um Sonho De Liberdade', 'Batman, O Cavaleiro das Trevas', 'O Poderoso Chefão II', '12 Homens e uma Sentença','A Lista de Schindler', 'O Senhor dos Anéis: O Retorno do Rei', 'O Senhor dos Anéis: A Sociedade do Anel', 'Pulp Fiction - Tempo de Violência', 'Três Homens em Conflito']\n",
        "filmes.insert(0, 'Um Sonho De Liberdade')\n",
        "filmes.pop(2)\n",
        "print(filmes)\n"
      ],
      "execution_count": null,
      "outputs": [
        {
          "output_type": "stream",
          "name": "stdout",
          "text": [
            "['Um Sonho De Liberdade', 'O Poderoso Chefão', 'Batman, O Cavaleiro das Trevas', 'O Poderoso Chefão II', '12 Homens e uma Sentença', 'A Lista de Schindler', 'O Senhor dos Anéis: O Retorno do Rei', 'O Senhor dos Anéis: A Sociedade do Anel', 'Pulp Fiction - Tempo de Violência', 'Três Homens em Conflito']\n"
          ]
        }
      ]
    },
    {
      "cell_type": "markdown",
      "metadata": {
        "id": "zMN1Q3jdwoJm"
      },
      "source": [
        "---"
      ]
    },
    {
      "cell_type": "markdown",
      "metadata": {
        "id": "lxa5L6uF0ZJE"
      },
      "source": [
        "## 2\\. Conjuntos"
      ]
    },
    {
      "cell_type": "markdown",
      "metadata": {
        "id": "9JahS2Kj0d5u"
      },
      "source": [
        "Aconteceu um erro no seu *ranking*. Simule a duplicação dos três últimos filmes da lista. Imprima o resultado."
      ]
    },
    {
      "cell_type": "code",
      "source": [
        "filmes = []\n",
        "\n",
        "filmes.append('o poderoso chefão')\n",
        "filmes.append('um sonho de liberdade')\n",
        "filmes.append('batman o cavaleiro das trevas')\n",
        "filmes.append('o poderoso chefão II')\n",
        "filmes.append('12 homens e uma sentença')\n",
        "filmes.append('a lista de schindler')\n",
        "filmes.append('o senhor dos anéis: o retorno do rei')\n",
        "filmes.append('o senhor dos anéis: a sociedade do anel')\n",
        "filmes.append('o senhor dos anéis: a sociedade do anel')\n",
        "filmes.append('pulp fiction - tempo de violência')\n",
        "filmes.append('pulp fiction - tempo de violência')\n",
        "filmes.append('três homens em conflito')\n",
        "filmes.append('tres homens em conflito')\n",
        "print(len(filmes))\n"
      ],
      "metadata": {
        "colab": {
          "base_uri": "https://localhost:8080/"
        },
        "id": "E1XEF3YIftrU",
        "outputId": "2e4572a5-caf6-4c8c-c560-5e7eb71917a4"
      },
      "execution_count": 17,
      "outputs": [
        {
          "output_type": "stream",
          "name": "stdout",
          "text": [
            "13\n"
          ]
        }
      ]
    },
    {
      "cell_type": "code",
      "metadata": {
        "id": "BnjnLBNC6PGe"
      },
      "source": [],
      "execution_count": null,
      "outputs": []
    },
    {
      "cell_type": "markdown",
      "metadata": {
        "id": "suxTfCJB6ZiX"
      },
      "source": [
        "Utiliza a conversão `set` e `list` para remover os valores duplicados. Imprima o resultado."
      ]
    },
    {
      "cell_type": "code",
      "metadata": {
        "id": "ZvUGN-0n6joM",
        "colab": {
          "base_uri": "https://localhost:8080/"
        },
        "outputId": "9f8a38d7-d8b6-490d-e9b9-afa947692d81"
      },
      "source": [
        "filmes = list(set(filmes))\n",
        "print(filmes)\n",
        "print(len(filmes))\n"
      ],
      "execution_count": 27,
      "outputs": [
        {
          "output_type": "stream",
          "name": "stdout",
          "text": [
            "['pulp fiction - tempo de violência', '12 homens e uma sentença', 'o senhor dos anéis: a sociedade do anel', 'três homens em conflito', 'o senhor dos anéis: o retorno do rei', 'um sonho de liberdade', 'o poderoso chefão II', 'a lista de schindler', 'batman o cavaleiro das trevas', 'o poderoso chefão']\n",
            "10\n"
          ]
        }
      ]
    },
    {
      "cell_type": "markdown",
      "metadata": {
        "id": "ShkK35eQ6pAM"
      },
      "source": [
        "---"
      ]
    },
    {
      "cell_type": "markdown",
      "metadata": {
        "id": "EL_FzmxL6rTv"
      },
      "source": [
        "## 3\\. Dicionários"
      ]
    },
    {
      "cell_type": "markdown",
      "metadata": {
        "id": "i8l0gFqRCpfT"
      },
      "source": [
        "Repita os exercícios da parte 1 (listas). Os elementos da lista `filmes` devem ser dicionários no seguinte formato: `{'nome': <nome-do-filme>, 'ano': <ano do filme>}, 'sinopse': <sinopse do filme>}`."
      ]
    },
    {
      "cell_type": "code",
      "source": [
        "top_filmes = []\n",
        "\n",
        "filme = {'nome':'um sonho de liberdade', 'ano':'1994'}\n",
        "top_filmes.append(filme)\n",
        "filme = {'nome':'o poderoso chefão', 'ano':'1972'}\n",
        "top_filmes.append(filme)\n",
        "filme = {'nome':'batman: o cavaleirodas trevas', 'ano':'2008'}\n",
        "top_filmes.append(filme)\n",
        "filme = {'nome':'o poderoso chefão II', 'ano':'1974'}\n",
        "top_filmes.append(filme)\n",
        "filme = {'nome':'12 homens e uma sentença', 'ano':'1957'}\n",
        "top_filmes.append(filme)\n",
        "filme = {'nome':'a lista de schindler', 'ano':'1993'}\n",
        "top_filmes.append(filme)\n",
        "filme = {'nome':'o senhor dos anéis: o retorno do rei', 'ano':'2003'}\n",
        "top_filmes.append(filme)\n",
        "filme = {'nome':'pulp fiction - tempod e violência', 'ano':'1994'}\n",
        "top_filmes.append(filme)\n",
        "filme = {'nome':'o senhor dos anéis: a sociedade secreta', 'ano':'2001'}\n",
        "top_filmes.append(filme)\n",
        "filme = {'nome':'tres homens em conflito', 'ano':'1966'}\n",
        "top_filmes.append(filme)\n",
        "\n",
        "print(len(top_filmes))\n",
        "print(top_filmes)\n",
        "\n"
      ],
      "metadata": {
        "colab": {
          "base_uri": "https://localhost:8080/"
        },
        "id": "3DuIAibuDng8",
        "outputId": "d0e9e147-8c4b-4ed7-b913-8f941d9f7a22"
      },
      "execution_count": 33,
      "outputs": [
        {
          "output_type": "stream",
          "name": "stdout",
          "text": [
            "10\n",
            "[{'nome': 'um sonho de liberdade', 'ano': '1994'}, {'nome': 'o poderoso chefão', 'ano': '1972'}, {'nome': 'batman: o cavaleirodas trevas', 'ano': '2008'}, {'nome': 'o poderoso chefão II', 'ano': '1974'}, {'nome': '12 homens e uma sentença', 'ano': '1957'}, {'nome': 'a lista de schindler', 'ano': '1993'}, {'nome': 'o senhor dos anéis: o retorno do rei', 'ano': '2003'}, {'nome': 'pulp fiction - tempod e violência', 'ano': '1994'}, {'nome': 'o senhor dos anéis: a sociedade secreta', 'ano': '2001'}, {'nome': 'tres homens em conflito', 'ano': '1966'}]\n"
          ]
        }
      ]
    }
  ]
}